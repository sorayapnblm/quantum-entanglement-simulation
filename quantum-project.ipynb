{
 "cells": [
  {
   "cell_type": "markdown",
   "metadata": {},
   "source": [
    "<h1 style=\"text-align:center; color:brown\">Quantum Entanglement Simulation Using Qiskit</h1>"
   ]
  },
  {
   "cell_type": "markdown",
   "metadata": {},
   "source": [
    "<h1 style=\"text-align:left; color:purple\">Introduction</h1>"
   ]
  },
  {
   "cell_type": "markdown",
   "metadata": {},
   "source": [
    "The goal of this project is to implement a quantum circuit that demonstrates quantum entanglement by generating a Bell State. \n",
    "We'll build, run, and visualize a quantum circuit using Qiskit, highlighting quantum principles like superposition and entanglement.\n",
    "\n",
    "\n",
    "<h4>Before we dive into the code, let’s understand what we’re doing:</h4>\n",
    "\n",
    "- Quantum Bits (Qubits): Unlike classical bits (0 or 1), qubits can exist in a state of superposition, meaning they can be both 0 and 1 simultaneously until measured.\n",
    "\n",
    "- Superposition: By applying a Hadamard gate (H) to a qubit, we put it into a superposition. This means the qubit will have an equal probability of being 0 or 1 when measured.\n",
    "\n",
    "- Entanglement: When two qubits are entangled, the state of one qubit becomes directly correlated with the state of the other, regardless of the distance between them. This is achieved using a CNOT (Controlled-NOT) gate, which entangles two qubits based on the state of the control qubit.\n",
    "\n",
    "- Bell State: A specific example of quantum entanglement, a Bell State is formed when two qubits are in a superposition and exhibit perfect correlation upon measurement. This is the state we aim to generate in our circuit."
   ]
  },
  {
   "cell_type": "markdown",
   "metadata": {},
   "source": [
    "<h2 style=\"text-align:left; color:navy\">Installations and imports</h2>"
   ]
  },
  {
   "cell_type": "code",
   "execution_count": 11,
   "metadata": {},
   "outputs": [],
   "source": [
    "import qiskit\n",
    "from qiskit import QuantumCircuit, QuantumRegister, ClassicalRegister\n",
    "from qiskit.visualization import plot_histogram\n",
    "from qiskit_aer import AerSimulator"
   ]
  },
  {
   "cell_type": "markdown",
   "metadata": {},
   "source": [
    "<h2 style=\"text-align:left; color:navy\">Create quantum and classical registers</h2>"
   ]
  },
  {
   "cell_type": "markdown",
   "metadata": {},
   "source": [
    "We create two quantum registers (q0 and q1), which are the qubits that will hold quantum information, and two classical registers (c0 and c1), which will store the measurement results."
   ]
  },
  {
   "cell_type": "code",
   "execution_count": 12,
   "metadata": {},
   "outputs": [],
   "source": [
    "# Two quantum bits\n",
    "q = QuantumRegister(2, 'q')\n",
    "# Two classical bits\n",
    "c = ClassicalRegister(2, 'c')"
   ]
  },
  {
   "cell_type": "markdown",
   "metadata": {},
   "source": [
    "<h2 style=\"text-align:left; color:navy\">Create a quantum circuit</h2>"
   ]
  },
  {
   "cell_type": "code",
   "execution_count": 13,
   "metadata": {},
   "outputs": [],
   "source": [
    "circuit = QuantumCircuit(q, c)"
   ]
  },
  {
   "cell_type": "markdown",
   "metadata": {},
   "source": [
    "<h2 style=\"text-align:left; color:navy\">Apply Hadamard gate to the first qubit (q0)</h2>"
   ]
  },
  {
   "cell_type": "markdown",
   "metadata": {},
   "source": [
    "The Hadamard gate is applied to the first qubit (q0) to put it into superposition. Before applying the Hadamard gate, q0 is in the state |0⟩ (classical 0). After applying the Hadamard gate, q0 is in an equal superposition of |0⟩ and |1⟩."
   ]
  },
  {
   "cell_type": "code",
   "execution_count": 14,
   "metadata": {},
   "outputs": [
    {
     "data": {
      "text/plain": [
       "<qiskit.circuit.instructionset.InstructionSet at 0x1113fc5b0>"
      ]
     },
     "execution_count": 14,
     "metadata": {},
     "output_type": "execute_result"
    }
   ],
   "source": [
    "#This puts q0 into a superposition state (equal probability of 0 and 1)\n",
    "circuit.h(q[0])"
   ]
  },
  {
   "cell_type": "markdown",
   "metadata": {},
   "source": [
    "<h2 style=\"text-align:left; color:navy\">Apply CNOT gate (Control: q0, Target: q1)</h2>"
   ]
  },
  {
   "cell_type": "markdown",
   "metadata": {},
   "source": [
    "The CNOT gate entangles the second qubit (q1) with the first qubit (q0). If q0 is 0, q1 stays 0; if q0 is 1, q1 flips to 1. This creates a Bell State."
   ]
  },
  {
   "cell_type": "code",
   "execution_count": 15,
   "metadata": {},
   "outputs": [
    {
     "data": {
      "text/plain": [
       "<qiskit.circuit.instructionset.InstructionSet at 0x1113fd030>"
      ]
     },
     "execution_count": 15,
     "metadata": {},
     "output_type": "execute_result"
    }
   ],
   "source": [
    "# This entangles q0 and q1. If q0 is 0, q1 remains 0; if q0 is 1, q1 flips to 1.\n",
    "circuit.cx(q[0], q[1])"
   ]
  },
  {
   "cell_type": "markdown",
   "metadata": {},
   "source": [
    "<h2 style=\"text-align:left; color:navy\">Measure both qubits</h2>"
   ]
  },
  {
   "cell_type": "markdown",
   "metadata": {},
   "source": [
    "We measure both qubits, collapsing their superposition and entanglement into a definite state (either |00⟩ or |11⟩)."
   ]
  },
  {
   "cell_type": "code",
   "execution_count": 16,
   "metadata": {},
   "outputs": [
    {
     "data": {
      "text/plain": [
       "<qiskit.circuit.instructionset.InstructionSet at 0x11149f040>"
      ]
     },
     "execution_count": 16,
     "metadata": {},
     "output_type": "execute_result"
    }
   ],
   "source": [
    "# We measure q0 and q1 and store the results in the classical register 'c'\n",
    "circuit.measure(q, c)"
   ]
  },
  {
   "cell_type": "markdown",
   "metadata": {},
   "source": [
    "<h2 style=\"text-align:left; color:navy\">Visualize the quantum circuit</h2>"
   ]
  },
  {
   "cell_type": "code",
   "execution_count": 17,
   "metadata": {},
   "outputs": [
    {
     "data": {
      "image/png": "[encoded data removed]",
      "text/plain": [
       "<Figure size 454.517x284.278 with 1 Axes>"
      ]
     },
     "metadata": {},
     "output_type": "display_data"
    }
   ],
   "source": [
    "display(circuit.draw('mpl'))"
   ]
  },
  {
   "cell_type": "markdown",
   "metadata": {},
   "source": [
    "<h2 style=\"text-align:left; color:navy\">Running the Simulation and Analyzing Results</h2>"
   ]
  },
  {
   "cell_type": "markdown",
   "metadata": {},
   "source": [
    "Now, we run the quantum circuit and visualize the results using a histogram to display the measurement probabilities."
   ]
  },
  {
   "cell_type": "code",
   "execution_count": 18,
   "metadata": {},
   "outputs": [
    {
     "data": {
      "image/png": "[encoded data removed]",
      "text/plain": [
       "<Figure size 640x480 with 1 Axes>"
      ]
     },
     "metadata": {},
     "output_type": "display_data"
    }
   ],
   "source": [
    "# Use AerSimulator to simulate the circuit\n",
    "simulator = AerSimulator()\n",
    "\n",
    "# Transpile the circuit for the simulator\n",
    "compiled_circuit = circuit\n",
    "\n",
    "# Execute the circuit on the AerSimulator\n",
    "result = simulator.run(compiled_circuit).result()\n",
    "\n",
    "# Get the measurement outcomes\n",
    "counts = result.get_counts()\n",
    "\n",
    "# Plot the measurement results\n",
    "display(plot_histogram(counts))"
   ]
  },
  {
   "cell_type": "markdown",
   "metadata": {},
   "source": [
    "The results show a histogram with two bars: one for 00 and one for 11 with approximately equal frequencies. These represent the two possible outcomes after measurement. Since the qubits are entangled, they will either both be 0 (00) or both be 1 (11)—no other combinations like 01 or 10 are possible. This confirms the entanglement between the qubits."
   ]
  },
  {
   "cell_type": "markdown",
   "metadata": {},
   "source": [
    "<h1 style=\"text-align:left; color:purple\">Conclusion</h1>"
   ]
  },
  {
   "cell_type": "markdown",
   "metadata": {},
   "source": [
    "In this project, we successfully simulated quantum entanglement by creating a Bell State using Qiskit. The results demonstrated that the qubits are perfectly correlated, confirming the entanglement properties. This project provides a hands-on demonstration of fundamental quantum computing concepts such as superposition and entanglement."
   ]
  },
  {
   "cell_type": "markdown",
   "metadata": {},
   "source": [
    "<h2 style=\"text-align:left; color:green\">Optional: Run the circuit on  IBM Quantum hardware</h2>"
   ]
  },
  {
   "cell_type": "markdown",
   "metadata": {},
   "source": [
    "While this project was primarily simulated using Qiskit’s AerSimulator for efficiency and ease of use, it is also possible to run the circuit on actual IBM Quantum hardware. By connecting to IBM Quantum services, the same circuit can be executed on real quantum processors.\n",
    "\n",
    "Note: Running on hardware may involve queue times and pending jobs, depending on the quantum processor availability."
   ]
  },
  {
   "cell_type": "markdown",
   "metadata": {},
   "source": [
    "<h3 style=\"text-align:left\">This is the implementation :</h3>"
   ]
  },
  {
   "cell_type": "code",
   "execution_count": null,
   "metadata": {},
   "outputs": [],
   "source": [
    "from qiskit import QuantumCircuit, QuantumRegister, ClassicalRegister, transpile\n",
    "from qiskit.visualization import plot_histogram\n",
    "from qiskit_ibm_runtime import QiskitRuntimeService, Session, Sampler\n",
    "\n",
    "# Connect to IBM Quantum service using your API token\n",
    "service = QiskitRuntimeService(channel=\"ibm_quantum\", token=“your”-token)\n",
    "\n",
    "# Choose the quantum backend\n",
    "backend = service.backend(\"ibm_sherbrooke\")\n",
    "\n",
    "# Create quantum and classical register\n",
    "q = QuantumRegister(2, 'q')\n",
    "c = ClassicalRegister(2, 'c')\n",
    "\n",
    "# Create a quantum circuit\n",
    "circuit = QuantumCircuit(q, c)\n",
    "\n",
    "# Apply Hadamard gate to the first qubit (q0)\n",
    "circuit.h(q[0])\n",
    "\n",
    "# Apply CNOT gate (Control: q0, Target: q1)\n",
    "circuit.cx(q[0], q[1])\n",
    "\n",
    "# Measure both qubits\n",
    "circuit.measure(q, c)\n",
    "\n",
    "# Visualize the quantum circuit\n",
    "circuit.draw('mpl')\n",
    "\n",
    "# Transpile the circuit for the backend\n",
    "transpiled_circuit = transpile(circuit, backend=backend)\n",
    "\n",
    "# Start a session using only the backend\n",
    "with Session(backend=backend) as session:\n",
    "    # Initialize the sampler primitive\n",
    "    sampler = Sampler()\n",
    "    # Run the circuit using the sampler and get the result\n",
    "    job = sampler.run([transpiled_circuit])\n",
    "    result = job.result()\n",
    "    # Extract and visualize the measurement outcomes\n",
    "    counts = result.quasi_dists[0].binary_probabilities()\n",
    "    plot_histogram(counts)\n"
   ]
  },
  {
   "cell_type": "markdown",
   "metadata": {},
   "source": [
    "<h3 style=\"text-align:left; color:pink\">Soraya PANAMBALOM</h3>"
   ]
  }
 ],
 "metadata": {
  "kernelspec": {
   "display_name": "cwq",
   "language": "python",
   "name": "python3"
  },
  "language_info": {
   "codemirror_mode": {
    "name": "ipython",
    "version": 3
   },
   "file_extension": ".py",
   "mimetype": "text/x-python",
   "name": "python",
   "nbconvert_exporter": "python",
   "pygments_lexer": "ipython3",
   "version": "3.12.5"
  }
 },
 "nbformat": 4,
 "nbformat_minor": 2
}
